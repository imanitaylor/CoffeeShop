{
 "cells": [
  {
   "cell_type": "markdown",
   "id": "00e68505",
   "metadata": {},
   "source": [
    "# Welcome to Our Coffee Shop"
   ]
  },
  {
   "cell_type": "code",
   "execution_count": 58,
   "id": "5e75daed",
   "metadata": {},
   "outputs": [
    {
     "name": "stdout",
     "output_type": "stream",
     "text": [
      "Do you want small, medium, or large? small\n",
      "Do you want brewed, espresso, or cold brew? brewed\n",
      "Do you want a flavored syrup? (Yes or No) no\n",
      "You asked for a small cup of brewed coffee.\n",
      "Your cup of coffee costs 2.00\n",
      "Your price with a tip is 2.30\n"
     ]
    }
   ],
   "source": [
    "#Imani Taylor May 13, 2022\n",
    "sizes = {\"small\":2.00, \"medium\":3.00, \"large\":4.00}\n",
    "types = {\"brewed\":0.00, \"espresso\":0.50, \"cold brew\":1.00}\n",
    "tip=0.15\n",
    "\n",
    "size = input(\"Do you want small, medium, or large? \").lower()\n",
    "type = input(\"Do you want brewed, espresso, or cold brew? \").lower()\n",
    "flavor = input(\"Do you want a flavored syrup? (Yes or No) \").lower()\n",
    "\n",
    "for keys in sizes:\n",
    "    if size == keys:\n",
    "         sizeCost = sizes[keys]\n",
    "\n",
    "            \n",
    "for keys in types:\n",
    "    if type == keys:\n",
    "         typeCost = types[keys]           \n",
    "            \n",
    "total = sizeCost + typeCost \n",
    "\n",
    "\n",
    "if flavor == \"yes\":\n",
    "    total+=0.50\n",
    "    flavorType = input(\"Do you want hazelnut, vanilla, or caramel? \").lower()\n",
    "    print(\"You asked for a \" + size + \" cup of \" + type + \" coffee with \" + flavorType + \" syrup.\")\n",
    "\n",
    "elif flavor == \"no\" or \"none\":\n",
    "    print(\"You asked for a \" + size + \" cup of \" + type + \" coffee.\")\n",
    "\n",
    "txt = \"Your cup of coffee costs {total:.2f}\"\n",
    "print(txt.format(total = total))\n",
    "tipTxt = \"Your price with a tip is {total:.2f}\"\n",
    "total += total*tip\n",
    "print(tipTxt.format(total = total ))"
   ]
  },
  {
   "cell_type": "code",
   "execution_count": null,
   "id": "fb281ea8",
   "metadata": {},
   "outputs": [],
   "source": []
  },
  {
   "cell_type": "code",
   "execution_count": null,
   "id": "74c13219",
   "metadata": {},
   "outputs": [],
   "source": []
  }
 ],
 "metadata": {
  "kernelspec": {
   "display_name": "Python 3 (ipykernel)",
   "language": "python",
   "name": "python3"
  },
  "language_info": {
   "codemirror_mode": {
    "name": "ipython",
    "version": 3
   },
   "file_extension": ".py",
   "mimetype": "text/x-python",
   "name": "python",
   "nbconvert_exporter": "python",
   "pygments_lexer": "ipython3",
   "version": "3.9.7"
  }
 },
 "nbformat": 4,
 "nbformat_minor": 5
}
